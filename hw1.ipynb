{
 "cells": [
  {
   "cell_type": "code",
   "execution_count": 1,
   "metadata": {},
   "outputs": [],
   "source": [
    "import torch"
   ]
  },
  {
   "cell_type": "code",
   "execution_count": 2,
   "metadata": {},
   "outputs": [],
   "source": [
    "# 1. Создайте случайный FloatTensor размера 3x4x5"
   ]
  },
  {
   "cell_type": "code",
   "execution_count": 3,
   "metadata": {},
   "outputs": [
    {
     "data": {
      "text/plain": [
       "tensor([[[ 6410222.,  9415466.,   823169.,  8177327.,  2825035.],\n",
       "         [ 7122669., 11833693.,  5933717.,  8888619.,  6089285.],\n",
       "         [ 6578414., 11196324.,  1387024., 14572449., 10538346.],\n",
       "         [ 3936281.,   631734., 12735334.,  2135243., 14257941.]],\n",
       "\n",
       "        [[ 3133021., 10327150., 10580523.,  3829548.,  8941168.],\n",
       "         [12180172.,  2181936.,  5662690.,  2601455., 13206212.],\n",
       "         [ 5332098.,  5980923.,  7710328.,   595574.,  3107847.],\n",
       "         [ 4600730., 10318935., 10599844.,  9340399., 12072730.]],\n",
       "\n",
       "        [[ 6542997.,  3957642.,  4000320.,  1077713.,  6985279.],\n",
       "         [ 2216262.,  3468797., 13847291.,  9424241.,  5037894.],\n",
       "         [ 5765376.,  1724972.,  9789546.,  7725025., 14171739.],\n",
       "         [10619993.,   820824., 10450477.,  5938336.,  2181923.]]])"
      ]
     },
     "execution_count": 3,
     "metadata": {},
     "output_type": "execute_result"
    }
   ],
   "source": [
    "a = torch.FloatTensor(3, 4, 5).random_()\n",
    "a"
   ]
  },
  {
   "cell_type": "code",
   "execution_count": 4,
   "metadata": {},
   "outputs": [],
   "source": [
    "# 2. Выведите его форму (shape)"
   ]
  },
  {
   "cell_type": "code",
   "execution_count": 5,
   "metadata": {},
   "outputs": [
    {
     "data": {
      "text/plain": [
       "torch.Size([3, 4, 5])"
      ]
     },
     "execution_count": 5,
     "metadata": {},
     "output_type": "execute_result"
    }
   ],
   "source": [
    "a.shape # или a.size()"
   ]
  },
  {
   "cell_type": "code",
   "execution_count": 6,
   "metadata": {},
   "outputs": [],
   "source": [
    "# 3. Приведите его к форме 6х10"
   ]
  },
  {
   "cell_type": "code",
   "execution_count": 7,
   "metadata": {},
   "outputs": [
    {
     "data": {
      "text/plain": [
       "tensor([[ 6410222.,  9415466.,   823169.,  8177327.,  2825035.,  7122669.,\n",
       "         11833693.,  5933717.,  8888619.,  6089285.],\n",
       "        [ 6578414., 11196324.,  1387024., 14572449., 10538346.,  3936281.,\n",
       "           631734., 12735334.,  2135243., 14257941.],\n",
       "        [ 3133021., 10327150., 10580523.,  3829548.,  8941168., 12180172.,\n",
       "          2181936.,  5662690.,  2601455., 13206212.],\n",
       "        [ 5332098.,  5980923.,  7710328.,   595574.,  3107847.,  4600730.,\n",
       "         10318935., 10599844.,  9340399., 12072730.],\n",
       "        [ 6542997.,  3957642.,  4000320.,  1077713.,  6985279.,  2216262.,\n",
       "          3468797., 13847291.,  9424241.,  5037894.],\n",
       "        [ 5765376.,  1724972.,  9789546.,  7725025., 14171739., 10619993.,\n",
       "           820824., 10450477.,  5938336.,  2181923.]])"
      ]
     },
     "execution_count": 7,
     "metadata": {},
     "output_type": "execute_result"
    }
   ],
   "source": [
    "a = a.reshape(6, 10)\n",
    "a"
   ]
  },
  {
   "cell_type": "code",
   "execution_count": 8,
   "metadata": {},
   "outputs": [
    {
     "data": {
      "text/plain": [
       "torch.Size([6, 10])"
      ]
     },
     "execution_count": 8,
     "metadata": {},
     "output_type": "execute_result"
    }
   ],
   "source": [
    "a.size() # или a.shape"
   ]
  },
  {
   "cell_type": "code",
   "execution_count": 9,
   "metadata": {},
   "outputs": [],
   "source": [
    "# 4. Создайте случайный IntTensor размера 10"
   ]
  },
  {
   "cell_type": "code",
   "execution_count": 10,
   "metadata": {},
   "outputs": [
    {
     "data": {
      "text/plain": [
       "tensor([ 319446971,  947866683, 1736617873,  606159545, 1066106703, 1874485862,\n",
       "        2051548861, 1687611366, 1469263738, 1814670758], dtype=torch.int32)"
      ]
     },
     "execution_count": 10,
     "metadata": {},
     "output_type": "execute_result"
    }
   ],
   "source": [
    "b = torch.IntTensor(10).random_()\n",
    "b"
   ]
  },
  {
   "cell_type": "code",
   "execution_count": 11,
   "metadata": {},
   "outputs": [
    {
     "data": {
      "text/plain": [
       "torch.Size([10])"
      ]
     },
     "execution_count": 11,
     "metadata": {},
     "output_type": "execute_result"
    }
   ],
   "source": [
    "b.shape # или b.size()"
   ]
  },
  {
   "cell_type": "code",
   "execution_count": 12,
   "metadata": {},
   "outputs": [],
   "source": [
    "# 5. Умножьте созданный FloatTensor на созданный IntTensor поэлементно"
   ]
  },
  {
   "cell_type": "code",
   "execution_count": 13,
   "metadata": {},
   "outputs": [
    {
     "data": {
      "text/plain": [
       "tensor([[2.0477e+15, 8.9246e+15, 1.4295e+15, 4.9568e+15, 3.0118e+15, 1.3351e+16,\n",
       "         2.4277e+16, 1.0014e+16, 1.3060e+16, 1.1050e+16],\n",
       "        [2.1015e+15, 1.0613e+16, 2.4087e+15, 8.8332e+15, 1.1235e+16, 7.3785e+15,\n",
       "         1.2960e+15, 2.1492e+16, 3.1372e+15, 2.5873e+16],\n",
       "        [1.0008e+15, 9.7888e+15, 1.8374e+16, 2.3213e+15, 9.5322e+15, 2.2832e+16,\n",
       "         4.4763e+15, 9.5564e+15, 3.8222e+15, 2.3965e+16],\n",
       "        [1.7033e+15, 5.6691e+15, 1.3390e+16, 3.6101e+14, 3.3133e+15, 8.6240e+15,\n",
       "         2.1170e+16, 1.7888e+16, 1.3724e+16, 2.1908e+16],\n",
       "        [2.0901e+15, 3.7513e+15, 6.9470e+15, 6.5327e+14, 7.4471e+15, 4.1544e+15,\n",
       "         7.1164e+15, 2.3369e+16, 1.3847e+16, 9.1421e+15],\n",
       "        [1.8417e+15, 1.6350e+15, 1.7001e+16, 4.6826e+15, 1.5109e+16, 1.9907e+16,\n",
       "         1.6840e+15, 1.7636e+16, 8.7250e+15, 3.9595e+15]])"
      ]
     },
     "execution_count": 13,
     "metadata": {},
     "output_type": "execute_result"
    }
   ],
   "source": [
    "a_new = a.mul_(b)\n",
    "a_new"
   ]
  },
  {
   "cell_type": "code",
   "execution_count": 14,
   "metadata": {},
   "outputs": [
    {
     "data": {
      "text/plain": [
       "torch.Size([6, 10])"
      ]
     },
     "execution_count": 14,
     "metadata": {},
     "output_type": "execute_result"
    }
   ],
   "source": [
    "a_new.shape # или a_new.size()"
   ]
  },
  {
   "cell_type": "code",
   "execution_count": 15,
   "metadata": {},
   "outputs": [],
   "source": [
    "# 6. Умножьте тензор матрично на себя, чтобы результат был размерности 6x6\n",
    "# Подсказка: .dot может не подойти"
   ]
  },
  {
   "cell_type": "code",
   "execution_count": 16,
   "metadata": {},
   "outputs": [
    {
     "data": {
      "text/plain": [
       "tensor([[2.0477e+15, 2.1015e+15, 1.0008e+15, 1.7033e+15, 2.0901e+15, 1.8417e+15],\n",
       "        [8.9246e+15, 1.0613e+16, 9.7888e+15, 5.6691e+15, 3.7513e+15, 1.6350e+15],\n",
       "        [1.4295e+15, 2.4087e+15, 1.8374e+16, 1.3390e+16, 6.9470e+15, 1.7001e+16],\n",
       "        [4.9568e+15, 8.8332e+15, 2.3213e+15, 3.6101e+14, 6.5327e+14, 4.6826e+15],\n",
       "        [3.0118e+15, 1.1235e+16, 9.5322e+15, 3.3133e+15, 7.4471e+15, 1.5109e+16],\n",
       "        [1.3351e+16, 7.3785e+15, 2.2832e+16, 8.6240e+15, 4.1544e+15, 1.9907e+16],\n",
       "        [2.4277e+16, 1.2960e+15, 4.4763e+15, 2.1170e+16, 7.1164e+15, 1.6840e+15],\n",
       "        [1.0014e+16, 2.1492e+16, 9.5564e+15, 1.7888e+16, 2.3369e+16, 1.7636e+16],\n",
       "        [1.3060e+16, 3.1372e+15, 3.8222e+15, 1.3724e+16, 1.3847e+16, 8.7250e+15],\n",
       "        [1.1050e+16, 2.5873e+16, 2.3965e+16, 2.1908e+16, 9.1421e+15, 3.9595e+15]])"
      ]
     },
     "execution_count": 16,
     "metadata": {},
     "output_type": "execute_result"
    }
   ],
   "source": [
    "a_new_t = a_new.T\n",
    "a_new_t "
   ]
  },
  {
   "cell_type": "code",
   "execution_count": 17,
   "metadata": {},
   "outputs": [
    {
     "data": {
      "text/plain": [
       "torch.Size([10, 6])"
      ]
     },
     "execution_count": 17,
     "metadata": {},
     "output_type": "execute_result"
    }
   ],
   "source": [
    "a_new_t.shape # или a_new_t.size()"
   ]
  },
  {
   "cell_type": "code",
   "execution_count": 18,
   "metadata": {},
   "outputs": [
    {
     "data": {
      "text/plain": [
       "tensor([[1.2801e+33, 8.5215e+32, 9.7983e+32, 1.3145e+33, 8.1746e+32, 7.5235e+32],\n",
       "        [8.5215e+32, 1.5244e+33, 1.2895e+33, 1.2218e+33, 9.7248e+32, 9.3121e+32],\n",
       "        [9.7983e+32, 1.2895e+33, 1.7523e+33, 1.3757e+33, 8.6101e+32, 1.2439e+33],\n",
       "        [1.3145e+33, 1.2218e+33, 1.3757e+33, 1.7363e+33, 1.1376e+33, 1.0211e+33],\n",
       "        [8.1746e+32, 9.7248e+32, 8.6101e+32, 1.1376e+33, 1.0119e+33, 9.0750e+32],\n",
       "        [7.5235e+32, 9.3121e+32, 1.2439e+33, 1.0211e+33, 9.0750e+32, 1.3473e+33]])"
      ]
     },
     "execution_count": 18,
     "metadata": {},
     "output_type": "execute_result"
    }
   ],
   "source": [
    "a_66 = a_new.mm(a_new_t)\n",
    "a_66"
   ]
  },
  {
   "cell_type": "code",
   "execution_count": 19,
   "metadata": {},
   "outputs": [
    {
     "data": {
      "text/plain": [
       "torch.Size([6, 6])"
      ]
     },
     "execution_count": 19,
     "metadata": {},
     "output_type": "execute_result"
    }
   ],
   "source": [
    "a_66.shape # или a_66.size()"
   ]
  },
  {
   "cell_type": "code",
   "execution_count": 20,
   "metadata": {},
   "outputs": [],
   "source": [
    "# 7. Посчитайте производную функции y = x**3 + z - 75t в точке (1, 0.5, 2)"
   ]
  },
  {
   "cell_type": "code",
   "execution_count": 21,
   "metadata": {},
   "outputs": [],
   "source": [
    "def backward(incoming_gradients):\n",
    "    self.Tensor.grad = incoming_gradients\n",
    "\n",
    "    for inp in self.inputs:\n",
    "        if inp.grad_fn is not None:\n",
    "            new_incoming_gradients = incoming_gradient * local_grad(self.Tensor, inp)\n",
    "            inp.grad_fn.backward(new_incoming_gradients)\n",
    "        else:\n",
    "            pass"
   ]
  },
  {
   "cell_type": "code",
   "execution_count": 22,
   "metadata": {},
   "outputs": [],
   "source": [
    "x = torch.tensor(1., requires_grad=True)\n",
    "z = torch.tensor(0.5, requires_grad=True)\n",
    "t = torch.tensor(2., requires_grad=True)"
   ]
  },
  {
   "cell_type": "code",
   "execution_count": 23,
   "metadata": {},
   "outputs": [
    {
     "data": {
      "text/plain": [
       "tensor(-148.5000, grad_fn=<SubBackward0>)"
      ]
     },
     "execution_count": 23,
     "metadata": {},
     "output_type": "execute_result"
    }
   ],
   "source": [
    "y = x ** 3 + z - 75 * t\n",
    "y"
   ]
  },
  {
   "cell_type": "code",
   "execution_count": 24,
   "metadata": {},
   "outputs": [],
   "source": [
    "y.backward()"
   ]
  },
  {
   "cell_type": "code",
   "execution_count": 25,
   "metadata": {},
   "outputs": [],
   "source": [
    "# 8. Создайте единичный тензор размера 5x6"
   ]
  },
  {
   "cell_type": "code",
   "execution_count": 26,
   "metadata": {},
   "outputs": [
    {
     "data": {
      "text/plain": [
       "tensor([[1., 1., 1., 1., 1., 1.],\n",
       "        [1., 1., 1., 1., 1., 1.],\n",
       "        [1., 1., 1., 1., 1., 1.],\n",
       "        [1., 1., 1., 1., 1., 1.],\n",
       "        [1., 1., 1., 1., 1., 1.]])"
      ]
     },
     "execution_count": 26,
     "metadata": {},
     "output_type": "execute_result"
    }
   ],
   "source": [
    "a = torch.ones(5, 6)\n",
    "a"
   ]
  },
  {
   "cell_type": "code",
   "execution_count": 27,
   "metadata": {},
   "outputs": [
    {
     "data": {
      "text/plain": [
       "torch.Size([5, 6])"
      ]
     },
     "execution_count": 27,
     "metadata": {},
     "output_type": "execute_result"
    }
   ],
   "source": [
    "a.shape # или a.size()"
   ]
  },
  {
   "cell_type": "code",
   "execution_count": 28,
   "metadata": {},
   "outputs": [],
   "source": [
    "# 9. Переведите его в формат numpy"
   ]
  },
  {
   "cell_type": "code",
   "execution_count": 29,
   "metadata": {},
   "outputs": [
    {
     "data": {
      "text/plain": [
       "array([[1., 1., 1., 1., 1., 1.],\n",
       "       [1., 1., 1., 1., 1., 1.],\n",
       "       [1., 1., 1., 1., 1., 1.],\n",
       "       [1., 1., 1., 1., 1., 1.],\n",
       "       [1., 1., 1., 1., 1., 1.]], dtype=float32)"
      ]
     },
     "execution_count": 29,
     "metadata": {},
     "output_type": "execute_result"
    }
   ],
   "source": [
    "a_n = a.numpy()\n",
    "a_n"
   ]
  },
  {
   "cell_type": "code",
   "execution_count": 30,
   "metadata": {},
   "outputs": [
    {
     "data": {
      "text/plain": [
       "numpy.ndarray"
      ]
     },
     "execution_count": 30,
     "metadata": {},
     "output_type": "execute_result"
    }
   ],
   "source": [
    "type(a_n)"
   ]
  },
  {
   "cell_type": "code",
   "execution_count": null,
   "metadata": {},
   "outputs": [],
   "source": []
  }
 ],
 "metadata": {
  "kernelspec": {
   "display_name": "Python 3 (ipykernel)",
   "language": "python",
   "name": "python3"
  },
  "language_info": {
   "codemirror_mode": {
    "name": "ipython",
    "version": 3
   },
   "file_extension": ".py",
   "mimetype": "text/x-python",
   "name": "python",
   "nbconvert_exporter": "python",
   "pygments_lexer": "ipython3",
   "version": "3.9.13"
  }
 },
 "nbformat": 4,
 "nbformat_minor": 2
}
