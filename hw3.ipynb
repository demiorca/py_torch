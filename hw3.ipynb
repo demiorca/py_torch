{
 "cells": [
  {
   "cell_type": "markdown",
   "metadata": {},
   "source": [
    "## Домашнее задание\n",
    "\n",
    "Будем практиковаться на датасете недвижимости (sklearn.datasets.fetch_california_housing)\n",
    "\n",
    "Ваша задача:\n",
    "1. Создать Dataset для загрузки данных\n",
    "2. Обернуть его в Dataloader\n",
    "3. Написать архитектуру сети, которая предсказывает стоимость недвижимости. Сеть должна включать BatchNorm слои и Dropout (или НЕ включать, но нужно обосновать)\n",
    "4. Сравните сходимость Adam, RMSProp и SGD, сделайте вывод по качеству работы модели\n",
    "\n",
    "train-test разделение нужно сделать с помощью sklearn random_state=13, test_size = 0.25"
   ]
  },
  {
   "cell_type": "code",
   "execution_count": 1,
   "metadata": {},
   "outputs": [],
   "source": [
    "import numpy as np\n",
    "import pandas as pd\n",
    "import torch\n",
    "import torch.nn.functional as F\n",
    "import torch.nn as nn\n",
    "from tqdm import tqdm\n",
    "from sklearn.model_selection import train_test_split\n",
    "from sklearn.datasets import fetch_california_housing\n",
    "import torchvision.transforms as transforms\n",
    "\n",
    "pd.set_option('display.float_format', lambda x: '%0.4f' % x)\n",
    "np.set_printoptions(suppress=True)"
   ]
  },
  {
   "cell_type": "code",
   "execution_count": 2,
   "metadata": {},
   "outputs": [],
   "source": [
    "california_housing = fetch_california_housing(as_frame=True)"
   ]
  },
  {
   "cell_type": "code",
   "execution_count": 3,
   "metadata": {},
   "outputs": [
    {
     "name": "stdout",
     "output_type": "stream",
     "text": [
      ".. _california_housing_dataset:\n",
      "\n",
      "California Housing dataset\n",
      "--------------------------\n",
      "\n",
      "**Data Set Characteristics:**\n",
      "\n",
      "    :Number of Instances: 20640\n",
      "\n",
      "    :Number of Attributes: 8 numeric, predictive attributes and the target\n",
      "\n",
      "    :Attribute Information:\n",
      "        - MedInc        median income in block group\n",
      "        - HouseAge      median house age in block group\n",
      "        - AveRooms      average number of rooms per household\n",
      "        - AveBedrms     average number of bedrooms per household\n",
      "        - Population    block group population\n",
      "        - AveOccup      average number of household members\n",
      "        - Latitude      block group latitude\n",
      "        - Longitude     block group longitude\n",
      "\n",
      "    :Missing Attribute Values: None\n",
      "\n",
      "This dataset was obtained from the StatLib repository.\n",
      "https://www.dcc.fc.up.pt/~ltorgo/Regression/cal_housing.html\n",
      "\n",
      "The target variable is the median house value for California districts,\n",
      "expressed in hundreds of thousands of dollars ($100,000).\n",
      "\n",
      "This dataset was derived from the 1990 U.S. census, using one row per census\n",
      "block group. A block group is the smallest geographical unit for which the U.S.\n",
      "Census Bureau publishes sample data (a block group typically has a population\n",
      "of 600 to 3,000 people).\n",
      "\n",
      "An household is a group of people residing within a home. Since the average\n",
      "number of rooms and bedrooms in this dataset are provided per household, these\n",
      "columns may take surpinsingly large values for block groups with few households\n",
      "and many empty houses, such as vacation resorts.\n",
      "\n",
      "It can be downloaded/loaded using the\n",
      ":func:`sklearn.datasets.fetch_california_housing` function.\n",
      "\n",
      ".. topic:: References\n",
      "\n",
      "    - Pace, R. Kelley and Ronald Barry, Sparse Spatial Autoregressions,\n",
      "      Statistics and Probability Letters, 33 (1997) 291-297\n",
      "\n"
     ]
    }
   ],
   "source": [
    "print(california_housing.DESCR)"
   ]
  },
  {
   "cell_type": "code",
   "execution_count": 4,
   "metadata": {},
   "outputs": [
    {
     "data": {
      "text/html": [
       "<div>\n",
       "<style scoped>\n",
       "    .dataframe tbody tr th:only-of-type {\n",
       "        vertical-align: middle;\n",
       "    }\n",
       "\n",
       "    .dataframe tbody tr th {\n",
       "        vertical-align: top;\n",
       "    }\n",
       "\n",
       "    .dataframe thead th {\n",
       "        text-align: right;\n",
       "    }\n",
       "</style>\n",
       "<table border=\"1\" class=\"dataframe\">\n",
       "  <thead>\n",
       "    <tr style=\"text-align: right;\">\n",
       "      <th></th>\n",
       "      <th>MedInc</th>\n",
       "      <th>HouseAge</th>\n",
       "      <th>AveRooms</th>\n",
       "      <th>AveBedrms</th>\n",
       "      <th>Population</th>\n",
       "      <th>AveOccup</th>\n",
       "      <th>Latitude</th>\n",
       "      <th>Longitude</th>\n",
       "      <th>MedHouseVal</th>\n",
       "    </tr>\n",
       "  </thead>\n",
       "  <tbody>\n",
       "    <tr>\n",
       "      <th>0</th>\n",
       "      <td>8.3252</td>\n",
       "      <td>41.0000</td>\n",
       "      <td>6.9841</td>\n",
       "      <td>1.0238</td>\n",
       "      <td>322.0000</td>\n",
       "      <td>2.5556</td>\n",
       "      <td>37.8800</td>\n",
       "      <td>-122.2300</td>\n",
       "      <td>4.5260</td>\n",
       "    </tr>\n",
       "    <tr>\n",
       "      <th>1</th>\n",
       "      <td>8.3014</td>\n",
       "      <td>21.0000</td>\n",
       "      <td>6.2381</td>\n",
       "      <td>0.9719</td>\n",
       "      <td>2401.0000</td>\n",
       "      <td>2.1098</td>\n",
       "      <td>37.8600</td>\n",
       "      <td>-122.2200</td>\n",
       "      <td>3.5850</td>\n",
       "    </tr>\n",
       "    <tr>\n",
       "      <th>2</th>\n",
       "      <td>7.2574</td>\n",
       "      <td>52.0000</td>\n",
       "      <td>8.2881</td>\n",
       "      <td>1.0734</td>\n",
       "      <td>496.0000</td>\n",
       "      <td>2.8023</td>\n",
       "      <td>37.8500</td>\n",
       "      <td>-122.2400</td>\n",
       "      <td>3.5210</td>\n",
       "    </tr>\n",
       "    <tr>\n",
       "      <th>3</th>\n",
       "      <td>5.6431</td>\n",
       "      <td>52.0000</td>\n",
       "      <td>5.8174</td>\n",
       "      <td>1.0731</td>\n",
       "      <td>558.0000</td>\n",
       "      <td>2.5479</td>\n",
       "      <td>37.8500</td>\n",
       "      <td>-122.2500</td>\n",
       "      <td>3.4130</td>\n",
       "    </tr>\n",
       "    <tr>\n",
       "      <th>4</th>\n",
       "      <td>3.8462</td>\n",
       "      <td>52.0000</td>\n",
       "      <td>6.2819</td>\n",
       "      <td>1.0811</td>\n",
       "      <td>565.0000</td>\n",
       "      <td>2.1815</td>\n",
       "      <td>37.8500</td>\n",
       "      <td>-122.2500</td>\n",
       "      <td>3.4220</td>\n",
       "    </tr>\n",
       "  </tbody>\n",
       "</table>\n",
       "</div>"
      ],
      "text/plain": [
       "   MedInc  HouseAge  AveRooms  AveBedrms  Population  AveOccup  Latitude  \\\n",
       "0  8.3252   41.0000    6.9841     1.0238    322.0000    2.5556   37.8800   \n",
       "1  8.3014   21.0000    6.2381     0.9719   2401.0000    2.1098   37.8600   \n",
       "2  7.2574   52.0000    8.2881     1.0734    496.0000    2.8023   37.8500   \n",
       "3  5.6431   52.0000    5.8174     1.0731    558.0000    2.5479   37.8500   \n",
       "4  3.8462   52.0000    6.2819     1.0811    565.0000    2.1815   37.8500   \n",
       "\n",
       "   Longitude  MedHouseVal  \n",
       "0  -122.2300       4.5260  \n",
       "1  -122.2200       3.5850  \n",
       "2  -122.2400       3.5210  \n",
       "3  -122.2500       3.4130  \n",
       "4  -122.2500       3.4220  "
      ]
     },
     "execution_count": 4,
     "metadata": {},
     "output_type": "execute_result"
    }
   ],
   "source": [
    "df = california_housing.frame\n",
    "df.head(5)"
   ]
  },
  {
   "cell_type": "code",
   "execution_count": 5,
   "metadata": {},
   "outputs": [
    {
     "data": {
      "text/plain": [
       "(20640, 9)"
      ]
     },
     "execution_count": 5,
     "metadata": {},
     "output_type": "execute_result"
    }
   ],
   "source": [
    "df.shape"
   ]
  },
  {
   "cell_type": "code",
   "execution_count": 6,
   "metadata": {},
   "outputs": [
    {
     "name": "stdout",
     "output_type": "stream",
     "text": [
      "<class 'pandas.core.frame.DataFrame'>\n",
      "RangeIndex: 20640 entries, 0 to 20639\n",
      "Data columns (total 9 columns):\n",
      " #   Column       Non-Null Count  Dtype  \n",
      "---  ------       --------------  -----  \n",
      " 0   MedInc       20640 non-null  float64\n",
      " 1   HouseAge     20640 non-null  float64\n",
      " 2   AveRooms     20640 non-null  float64\n",
      " 3   AveBedrms    20640 non-null  float64\n",
      " 4   Population   20640 non-null  float64\n",
      " 5   AveOccup     20640 non-null  float64\n",
      " 6   Latitude     20640 non-null  float64\n",
      " 7   Longitude    20640 non-null  float64\n",
      " 8   MedHouseVal  20640 non-null  float64\n",
      "dtypes: float64(9)\n",
      "memory usage: 1.4 MB\n"
     ]
    }
   ],
   "source": [
    "df.info()"
   ]
  },
  {
   "cell_type": "code",
   "execution_count": 7,
   "metadata": {},
   "outputs": [
    {
     "data": {
      "text/html": [
       "<div>\n",
       "<style scoped>\n",
       "    .dataframe tbody tr th:only-of-type {\n",
       "        vertical-align: middle;\n",
       "    }\n",
       "\n",
       "    .dataframe tbody tr th {\n",
       "        vertical-align: top;\n",
       "    }\n",
       "\n",
       "    .dataframe thead th {\n",
       "        text-align: right;\n",
       "    }\n",
       "</style>\n",
       "<table border=\"1\" class=\"dataframe\">\n",
       "  <thead>\n",
       "    <tr style=\"text-align: right;\">\n",
       "      <th></th>\n",
       "      <th>MedInc</th>\n",
       "      <th>HouseAge</th>\n",
       "      <th>AveRooms</th>\n",
       "      <th>AveBedrms</th>\n",
       "      <th>Population</th>\n",
       "      <th>AveOccup</th>\n",
       "      <th>Latitude</th>\n",
       "      <th>Longitude</th>\n",
       "      <th>MedHouseVal</th>\n",
       "    </tr>\n",
       "  </thead>\n",
       "  <tbody>\n",
       "    <tr>\n",
       "      <th>count</th>\n",
       "      <td>20640.0000</td>\n",
       "      <td>20640.0000</td>\n",
       "      <td>20640.0000</td>\n",
       "      <td>20640.0000</td>\n",
       "      <td>20640.0000</td>\n",
       "      <td>20640.0000</td>\n",
       "      <td>20640.0000</td>\n",
       "      <td>20640.0000</td>\n",
       "      <td>20640.0000</td>\n",
       "    </tr>\n",
       "    <tr>\n",
       "      <th>mean</th>\n",
       "      <td>3.8707</td>\n",
       "      <td>28.6395</td>\n",
       "      <td>5.4290</td>\n",
       "      <td>1.0967</td>\n",
       "      <td>1425.4767</td>\n",
       "      <td>3.0707</td>\n",
       "      <td>35.6319</td>\n",
       "      <td>-119.5697</td>\n",
       "      <td>2.0686</td>\n",
       "    </tr>\n",
       "    <tr>\n",
       "      <th>std</th>\n",
       "      <td>1.8998</td>\n",
       "      <td>12.5856</td>\n",
       "      <td>2.4742</td>\n",
       "      <td>0.4739</td>\n",
       "      <td>1132.4621</td>\n",
       "      <td>10.3860</td>\n",
       "      <td>2.1360</td>\n",
       "      <td>2.0035</td>\n",
       "      <td>1.1540</td>\n",
       "    </tr>\n",
       "    <tr>\n",
       "      <th>min</th>\n",
       "      <td>0.4999</td>\n",
       "      <td>1.0000</td>\n",
       "      <td>0.8462</td>\n",
       "      <td>0.3333</td>\n",
       "      <td>3.0000</td>\n",
       "      <td>0.6923</td>\n",
       "      <td>32.5400</td>\n",
       "      <td>-124.3500</td>\n",
       "      <td>0.1500</td>\n",
       "    </tr>\n",
       "    <tr>\n",
       "      <th>25%</th>\n",
       "      <td>2.5634</td>\n",
       "      <td>18.0000</td>\n",
       "      <td>4.4407</td>\n",
       "      <td>1.0061</td>\n",
       "      <td>787.0000</td>\n",
       "      <td>2.4297</td>\n",
       "      <td>33.9300</td>\n",
       "      <td>-121.8000</td>\n",
       "      <td>1.1960</td>\n",
       "    </tr>\n",
       "    <tr>\n",
       "      <th>50%</th>\n",
       "      <td>3.5348</td>\n",
       "      <td>29.0000</td>\n",
       "      <td>5.2291</td>\n",
       "      <td>1.0488</td>\n",
       "      <td>1166.0000</td>\n",
       "      <td>2.8181</td>\n",
       "      <td>34.2600</td>\n",
       "      <td>-118.4900</td>\n",
       "      <td>1.7970</td>\n",
       "    </tr>\n",
       "    <tr>\n",
       "      <th>75%</th>\n",
       "      <td>4.7432</td>\n",
       "      <td>37.0000</td>\n",
       "      <td>6.0524</td>\n",
       "      <td>1.0995</td>\n",
       "      <td>1725.0000</td>\n",
       "      <td>3.2823</td>\n",
       "      <td>37.7100</td>\n",
       "      <td>-118.0100</td>\n",
       "      <td>2.6472</td>\n",
       "    </tr>\n",
       "    <tr>\n",
       "      <th>max</th>\n",
       "      <td>15.0001</td>\n",
       "      <td>52.0000</td>\n",
       "      <td>141.9091</td>\n",
       "      <td>34.0667</td>\n",
       "      <td>35682.0000</td>\n",
       "      <td>1243.3333</td>\n",
       "      <td>41.9500</td>\n",
       "      <td>-114.3100</td>\n",
       "      <td>5.0000</td>\n",
       "    </tr>\n",
       "  </tbody>\n",
       "</table>\n",
       "</div>"
      ],
      "text/plain": [
       "          MedInc   HouseAge   AveRooms  AveBedrms  Population   AveOccup  \\\n",
       "count 20640.0000 20640.0000 20640.0000 20640.0000  20640.0000 20640.0000   \n",
       "mean      3.8707    28.6395     5.4290     1.0967   1425.4767     3.0707   \n",
       "std       1.8998    12.5856     2.4742     0.4739   1132.4621    10.3860   \n",
       "min       0.4999     1.0000     0.8462     0.3333      3.0000     0.6923   \n",
       "25%       2.5634    18.0000     4.4407     1.0061    787.0000     2.4297   \n",
       "50%       3.5348    29.0000     5.2291     1.0488   1166.0000     2.8181   \n",
       "75%       4.7432    37.0000     6.0524     1.0995   1725.0000     3.2823   \n",
       "max      15.0001    52.0000   141.9091    34.0667  35682.0000  1243.3333   \n",
       "\n",
       "        Latitude  Longitude  MedHouseVal  \n",
       "count 20640.0000 20640.0000   20640.0000  \n",
       "mean     35.6319  -119.5697       2.0686  \n",
       "std       2.1360     2.0035       1.1540  \n",
       "min      32.5400  -124.3500       0.1500  \n",
       "25%      33.9300  -121.8000       1.1960  \n",
       "50%      34.2600  -118.4900       1.7970  \n",
       "75%      37.7100  -118.0100       2.6472  \n",
       "max      41.9500  -114.3100       5.0000  "
      ]
     },
     "execution_count": 7,
     "metadata": {},
     "output_type": "execute_result"
    }
   ],
   "source": [
    "df.describe()"
   ]
  },
  {
   "cell_type": "code",
   "execution_count": 8,
   "metadata": {},
   "outputs": [],
   "source": [
    "train_dataset, test_dataset = train_test_split(df, test_size=0.25, random_state=13)"
   ]
  },
  {
   "cell_type": "code",
   "execution_count": 9,
   "metadata": {},
   "outputs": [
    {
     "name": "stdout",
     "output_type": "stream",
     "text": [
      "Train_dataset shape: (15480, 9)\n",
      "Test_dataset shape: (5160, 9)\n"
     ]
    }
   ],
   "source": [
    "print(f'Train_dataset shape: {train_dataset.shape}\\nTest_dataset shape: {test_dataset.shape}')"
   ]
  },
  {
   "cell_type": "code",
   "execution_count": 10,
   "metadata": {},
   "outputs": [],
   "source": [
    "class CaliforniaHousingDataset(torch.utils.data.Dataset):\n",
    "    def __init__(self, init_dataset):\n",
    "        self._base_dataset = init_dataset\n",
    "\n",
    "    def __len__(self):\n",
    "        return len(self._base_dataset)\n",
    "\n",
    "    def __getitem__(self, index):\n",
    "        features = np.asarray(self._base_dataset)[index][:-1]\n",
    "        target = np.asarray(self._base_dataset)[index][-1]\n",
    "        return features, target"
   ]
  },
  {
   "cell_type": "code",
   "execution_count": 11,
   "metadata": {},
   "outputs": [],
   "source": [
    "california_housing_train_dataset = CaliforniaHousingDataset(train_dataset)"
   ]
  },
  {
   "cell_type": "code",
   "execution_count": 12,
   "metadata": {},
   "outputs": [
    {
     "data": {
      "text/plain": [
       "(array([   3.5174    ,   36.        ,    4.54794521,    1.09436834,\n",
       "        1357.        ,    2.06544901,   34.21      , -118.23      ]),\n",
       " 2.68)"
      ]
     },
     "execution_count": 12,
     "metadata": {},
     "output_type": "execute_result"
    }
   ],
   "source": [
    "california_housing_train_dataset[0]"
   ]
  },
  {
   "cell_type": "code",
   "execution_count": 13,
   "metadata": {},
   "outputs": [
    {
     "data": {
      "text/plain": [
       "<torch.utils.data.dataloader.DataLoader at 0x1dd5d519f10>"
      ]
     },
     "execution_count": 13,
     "metadata": {},
     "output_type": "execute_result"
    }
   ],
   "source": [
    "train_loader = torch.utils.data.DataLoader(california_housing_train_dataset, batch_size=8, shuffle=True)\n",
    "train_loader"
   ]
  },
  {
   "cell_type": "code",
   "execution_count": 14,
   "metadata": {},
   "outputs": [],
   "source": [
    "california_housing_test_dataset = CaliforniaHousingDataset(test_dataset)"
   ]
  },
  {
   "cell_type": "code",
   "execution_count": 15,
   "metadata": {},
   "outputs": [
    {
     "data": {
      "text/plain": [
       "(array([   4.1528    ,   15.        ,    6.19327731,    0.98739496,\n",
       "         768.        ,    3.22689076,   35.34      , -119.08      ]),\n",
       " 1.301)"
      ]
     },
     "execution_count": 15,
     "metadata": {},
     "output_type": "execute_result"
    }
   ],
   "source": [
    "california_housing_test_dataset[0]"
   ]
  },
  {
   "cell_type": "code",
   "execution_count": 16,
   "metadata": {},
   "outputs": [
    {
     "data": {
      "text/plain": [
       "<torch.utils.data.dataloader.DataLoader at 0x1dd5d52db20>"
      ]
     },
     "execution_count": 16,
     "metadata": {},
     "output_type": "execute_result"
    }
   ],
   "source": [
    "test_loader = torch.utils.data.DataLoader(california_housing_test_dataset, batch_size=8, shuffle=False)\n",
    "test_loader"
   ]
  },
  {
   "cell_type": "code",
   "execution_count": 17,
   "metadata": {},
   "outputs": [],
   "source": [
    "class Perceptron(nn.Module):\n",
    "    def __init__(self, input_dim, output_dim, activation=\"relu\"):\n",
    "        super(Perceptron, self).__init__()\n",
    "        self.fc = nn.Linear(input_dim, output_dim)\n",
    "        self.activation = activation\n",
    "        \n",
    "    def forward(self, x):\n",
    "        x = self.fc(x)\n",
    "        if self.activation==\"relu\":\n",
    "            return F.relu(x)\n",
    "        if self.activation==\"sigmoid\":\n",
    "            return F.sigmoid(x)\n",
    "        raise RuntimeError\n",
    "        \n",
    "\n",
    "class LinearRegression(nn.Module):\n",
    "    def __init__(self, input_dim, hidden_dim):\n",
    "        super(LinearRegression, self).__init__()\n",
    "        self.fc1 = Perceptron(input_dim, hidden_dim)\n",
    "        self.bn = nn.BatchNorm1d(hidden_dim)\n",
    "        self.dp = nn.Dropout(0.25)\n",
    "        self.fc2 = Perceptron(hidden_dim, 1, \"relu\")\n",
    "        \n",
    "    def forward(self, x):\n",
    "        x = self.fc1(x)\n",
    "        x = self.dp(x)\n",
    "        x = self.bn(x)\n",
    "        x = self.fc2(x)\n",
    "        return x"
   ]
  },
  {
   "cell_type": "code",
   "execution_count": 18,
   "metadata": {},
   "outputs": [],
   "source": [
    "net = LinearRegression(8, 1)\n",
    "criterion = nn.MSELoss()"
   ]
  },
  {
   "cell_type": "markdown",
   "metadata": {},
   "source": [
    "#### SGD"
   ]
  },
  {
   "cell_type": "code",
   "execution_count": 19,
   "metadata": {},
   "outputs": [
    {
     "name": "stderr",
     "output_type": "stream",
     "text": [
      "\r",
      "  0%|                                                                                           | 0/10 [00:00<?, ?it/s]"
     ]
    },
    {
     "name": "stdout",
     "output_type": "stream",
     "text": [
      "Loss: 0.808. \n",
      "Loss: 0.704. \n",
      "Loss: 0.710. \n",
      "Loss: 0.695. \n",
      "Loss: 0.703. \n",
      "Loss: 0.700. \n",
      "Loss: 0.693. \n"
     ]
    },
    {
     "name": "stderr",
     "output_type": "stream",
     "text": [
      "\r",
      " 10%|████████▎                                                                          | 1/10 [00:01<00:09,  1.07s/it]"
     ]
    },
    {
     "name": "stdout",
     "output_type": "stream",
     "text": [
      "Loss: 0.347. \n",
      "Loss: 0.683. \n",
      "Loss: 0.704. \n",
      "Loss: 0.702. \n",
      "Loss: 0.688. \n",
      "Loss: 0.720. \n",
      "Loss: 0.717. \n"
     ]
    },
    {
     "name": "stderr",
     "output_type": "stream",
     "text": [
      "\r",
      " 20%|████████████████▌                                                                  | 2/10 [00:02<00:08,  1.08s/it]"
     ]
    },
    {
     "name": "stdout",
     "output_type": "stream",
     "text": [
      "Loss: 0.880. \n",
      "Loss: 0.699. \n",
      "Loss: 0.694. \n",
      "Loss: 0.719. \n",
      "Loss: 0.701. \n",
      "Loss: 0.706. \n",
      "Loss: 0.701. \n"
     ]
    },
    {
     "name": "stderr",
     "output_type": "stream",
     "text": [
      "\r",
      " 30%|████████████████████████▉                                                          | 3/10 [00:03<00:07,  1.07s/it]"
     ]
    },
    {
     "name": "stdout",
     "output_type": "stream",
     "text": [
      "Loss: 0.825. \n",
      "Loss: 0.692. \n",
      "Loss: 0.704. \n",
      "Loss: 0.707. \n",
      "Loss: 0.706. \n",
      "Loss: 0.680. \n",
      "Loss: 0.700. \n"
     ]
    },
    {
     "name": "stderr",
     "output_type": "stream",
     "text": [
      "\r",
      " 40%|█████████████████████████████████▏                                                 | 4/10 [00:04<00:06,  1.09s/it]"
     ]
    },
    {
     "name": "stdout",
     "output_type": "stream",
     "text": [
      "Loss: 0.389. \n",
      "Loss: 0.716. \n",
      "Loss: 0.703. \n",
      "Loss: 0.695. \n",
      "Loss: 0.680. \n",
      "Loss: 0.715. \n",
      "Loss: 0.688. \n"
     ]
    },
    {
     "name": "stderr",
     "output_type": "stream",
     "text": [
      "\r",
      " 50%|█████████████████████████████████████████▌                                         | 5/10 [00:05<00:05,  1.08s/it]"
     ]
    },
    {
     "name": "stdout",
     "output_type": "stream",
     "text": [
      "Loss: 0.673. \n",
      "Loss: 0.704. \n",
      "Loss: 0.697. \n",
      "Loss: 0.705. \n",
      "Loss: 0.675. \n",
      "Loss: 0.717. \n",
      "Loss: 0.704. \n"
     ]
    },
    {
     "name": "stderr",
     "output_type": "stream",
     "text": [
      "\r",
      " 60%|█████████████████████████████████████████████████▊                                 | 6/10 [00:06<00:04,  1.10s/it]"
     ]
    },
    {
     "name": "stdout",
     "output_type": "stream",
     "text": [
      "Loss: 0.265. \n",
      "Loss: 0.695. \n",
      "Loss: 0.708. \n",
      "Loss: 0.682. \n",
      "Loss: 0.701. \n",
      "Loss: 0.705. \n",
      "Loss: 0.709. \n"
     ]
    },
    {
     "name": "stderr",
     "output_type": "stream",
     "text": [
      "\r",
      " 70%|██████████████████████████████████████████████████████████                         | 7/10 [00:07<00:03,  1.10s/it]"
     ]
    },
    {
     "name": "stdout",
     "output_type": "stream",
     "text": [
      "Loss: 0.545. \n",
      "Loss: 0.694. \n",
      "Loss: 0.705. \n",
      "Loss: 0.700. \n",
      "Loss: 0.693. \n",
      "Loss: 0.702. \n",
      "Loss: 0.693. \n"
     ]
    },
    {
     "name": "stderr",
     "output_type": "stream",
     "text": [
      "\r",
      " 80%|██████████████████████████████████████████████████████████████████▍                | 8/10 [00:08<00:02,  1.09s/it]"
     ]
    },
    {
     "name": "stdout",
     "output_type": "stream",
     "text": [
      "Loss: 0.731. \n",
      "Loss: 0.708. \n",
      "Loss: 0.700. \n",
      "Loss: 0.682. \n",
      "Loss: 0.705. \n",
      "Loss: 0.712. \n",
      "Loss: 0.693. \n"
     ]
    },
    {
     "name": "stderr",
     "output_type": "stream",
     "text": [
      "\r",
      " 90%|██████████████████████████████████████████████████████████████████████████▋        | 9/10 [00:09<00:01,  1.09s/it]"
     ]
    },
    {
     "name": "stdout",
     "output_type": "stream",
     "text": [
      "Loss: 0.771. \n",
      "Loss: 0.703. \n",
      "Loss: 0.696. \n",
      "Loss: 0.703. \n",
      "Loss: 0.692. \n",
      "Loss: 0.687. \n",
      "Loss: 0.735. \n"
     ]
    },
    {
     "name": "stderr",
     "output_type": "stream",
     "text": [
      "100%|██████████████████████████████████████████████████████████████████████████████████| 10/10 [00:10<00:00,  1.09s/it]"
     ]
    },
    {
     "name": "stdout",
     "output_type": "stream",
     "text": [
      "Training is finished!\n",
      "CPU times: total: 1min 26s\n",
      "Wall time: 10.9 s\n"
     ]
    },
    {
     "name": "stderr",
     "output_type": "stream",
     "text": [
      "\n"
     ]
    }
   ],
   "source": [
    "%%time\n",
    "\n",
    "optimizer = torch.optim.SGD(net.parameters(), lr=0.01)\n",
    "\n",
    "for epoch in tqdm(range(10)):  \n",
    "    running_loss, running_items = 0.0, 0.0\n",
    "    \n",
    "    for i, data in enumerate(train_loader):\n",
    "        inputs, labels = data[0].to(torch.float), data[1].to(torch.float)\n",
    "        labels = labels.reshape(8, 1)\n",
    "\n",
    "        # обнуляем градиент\n",
    "        optimizer.zero_grad()\n",
    "\n",
    "        outputs = net(inputs)\n",
    "        loss = criterion(outputs, labels)\n",
    "        loss.backward()\n",
    "        optimizer.step()\n",
    "\n",
    "        # выводим статистику о процессе обучения\n",
    "        running_loss += loss.item()\n",
    "        running_items += len(labels)\n",
    "        \n",
    "        # выводим статистику о процессе обучения\n",
    "        if i % 300 == 0:    # печатаем каждые 300 mini-batches\n",
    "            net.eval()\n",
    "\n",
    "            print(f'Loss: {running_loss / running_items:.3f}. ')\n",
    "            \n",
    "            running_loss, running_items = 0.0, 0.0\n",
    "\n",
    "            net.train()\n",
    "        \n",
    "print('Training is finished!')"
   ]
  },
  {
   "cell_type": "markdown",
   "metadata": {},
   "source": [
    "#### RMSProp"
   ]
  },
  {
   "cell_type": "code",
   "execution_count": 20,
   "metadata": {},
   "outputs": [
    {
     "name": "stderr",
     "output_type": "stream",
     "text": [
      "\r",
      "  0%|                                                                                           | 0/10 [00:00<?, ?it/s]"
     ]
    },
    {
     "name": "stdout",
     "output_type": "stream",
     "text": [
      "Loss: 0.349. \n",
      "Loss: 0.692. \n",
      "Loss: 0.302. \n",
      "Loss: 0.166. \n",
      "Loss: 0.171. \n",
      "Loss: 0.170. \n"
     ]
    },
    {
     "name": "stderr",
     "output_type": "stream",
     "text": [
      "\r",
      " 10%|████████▎                                                                          | 1/10 [00:01<00:11,  1.31s/it]"
     ]
    },
    {
     "name": "stdout",
     "output_type": "stream",
     "text": [
      "Loss: 0.178. \n",
      "Loss: 0.187. \n",
      "Loss: 0.170. \n",
      "Loss: 0.168. \n",
      "Loss: 0.169. \n",
      "Loss: 0.159. \n",
      "Loss: 0.171. \n"
     ]
    },
    {
     "name": "stderr",
     "output_type": "stream",
     "text": [
      "\r",
      " 20%|████████████████▌                                                                  | 2/10 [00:02<00:10,  1.35s/it]"
     ]
    },
    {
     "name": "stdout",
     "output_type": "stream",
     "text": [
      "Loss: 0.168. \n",
      "Loss: 0.281. \n",
      "Loss: 0.166. \n",
      "Loss: 0.175. \n",
      "Loss: 0.170. \n",
      "Loss: 0.170. \n",
      "Loss: 0.168. \n"
     ]
    },
    {
     "name": "stderr",
     "output_type": "stream",
     "text": [
      "\r",
      " 30%|████████████████████████▉                                                          | 3/10 [00:04<00:09,  1.39s/it]"
     ]
    },
    {
     "name": "stdout",
     "output_type": "stream",
     "text": [
      "Loss: 0.173. \n",
      "Loss: 0.209. \n",
      "Loss: 0.176. \n",
      "Loss: 0.166. \n",
      "Loss: 0.167. \n",
      "Loss: 0.175. \n",
      "Loss: 0.153. \n"
     ]
    },
    {
     "name": "stderr",
     "output_type": "stream",
     "text": [
      "\r",
      " 40%|█████████████████████████████████▏                                                 | 4/10 [00:05<00:08,  1.40s/it]"
     ]
    },
    {
     "name": "stdout",
     "output_type": "stream",
     "text": [
      "Loss: 0.174. \n",
      "Loss: 0.304. \n",
      "Loss: 0.171. \n",
      "Loss: 0.171. \n",
      "Loss: 0.174. \n",
      "Loss: 0.166. \n",
      "Loss: 0.162. \n",
      "Loss: 0.167. \n"
     ]
    },
    {
     "name": "stderr",
     "output_type": "stream",
     "text": [
      "\r",
      " 50%|█████████████████████████████████████████▌                                         | 5/10 [00:06<00:06,  1.38s/it]"
     ]
    },
    {
     "name": "stdout",
     "output_type": "stream",
     "text": [
      "Loss: 0.232. \n",
      "Loss: 0.174. \n",
      "Loss: 0.161. \n",
      "Loss: 0.159. \n",
      "Loss: 0.169. \n",
      "Loss: 0.181. \n"
     ]
    },
    {
     "name": "stderr",
     "output_type": "stream",
     "text": [
      "\r",
      " 60%|█████████████████████████████████████████████████▊                                 | 6/10 [00:08<00:05,  1.36s/it]"
     ]
    },
    {
     "name": "stdout",
     "output_type": "stream",
     "text": [
      "Loss: 0.165. \n",
      "Loss: 0.324. \n",
      "Loss: 0.167. \n",
      "Loss: 0.170. \n",
      "Loss: 0.166. \n",
      "Loss: 0.168. \n",
      "Loss: 0.167. \n"
     ]
    },
    {
     "name": "stderr",
     "output_type": "stream",
     "text": [
      "\r",
      " 70%|██████████████████████████████████████████████████████████                         | 7/10 [00:09<00:04,  1.34s/it]"
     ]
    },
    {
     "name": "stdout",
     "output_type": "stream",
     "text": [
      "Loss: 0.176. \n",
      "Loss: 0.117. \n",
      "Loss: 0.166. \n",
      "Loss: 0.172. \n",
      "Loss: 0.174. \n",
      "Loss: 0.166. \n",
      "Loss: 0.160. \n"
     ]
    },
    {
     "name": "stderr",
     "output_type": "stream",
     "text": [
      "\r",
      " 80%|██████████████████████████████████████████████████████████████████▍                | 8/10 [00:10<00:02,  1.33s/it]"
     ]
    },
    {
     "name": "stdout",
     "output_type": "stream",
     "text": [
      "Loss: 0.175. \n",
      "Loss: 0.083. \n",
      "Loss: 0.167. \n",
      "Loss: 0.173. \n",
      "Loss: 0.161. \n",
      "Loss: 0.168. \n",
      "Loss: 0.174. \n"
     ]
    },
    {
     "name": "stderr",
     "output_type": "stream",
     "text": [
      "\r",
      " 90%|██████████████████████████████████████████████████████████████████████████▋        | 9/10 [00:12<00:01,  1.33s/it]"
     ]
    },
    {
     "name": "stdout",
     "output_type": "stream",
     "text": [
      "Loss: 0.168. \n",
      "Loss: 0.175. \n",
      "Loss: 0.168. \n",
      "Loss: 0.160. \n",
      "Loss: 0.174. \n",
      "Loss: 0.174. \n",
      "Loss: 0.162. \n",
      "Loss: 0.175. \n"
     ]
    },
    {
     "name": "stderr",
     "output_type": "stream",
     "text": [
      "100%|██████████████████████████████████████████████████████████████████████████████████| 10/10 [00:13<00:00,  1.35s/it]"
     ]
    },
    {
     "name": "stdout",
     "output_type": "stream",
     "text": [
      "Training is finished!\n",
      "CPU times: total: 1min 47s\n",
      "Wall time: 13.5 s\n"
     ]
    },
    {
     "name": "stderr",
     "output_type": "stream",
     "text": [
      "\n"
     ]
    }
   ],
   "source": [
    "%%time\n",
    "\n",
    "optimizer = torch.optim.RMSprop(net.parameters(), lr=0.1, alpha=0.99)\n",
    "\n",
    "for epoch in tqdm(range(10)):  \n",
    "    running_loss, running_items = 0.0, 0.0\n",
    "    \n",
    "    for i, data in enumerate(train_loader):\n",
    "        inputs, labels = data[0].to(torch.float), data[1].to(torch.float)\n",
    "        labels = labels.reshape(8, 1)\n",
    "\n",
    "        # обнуляем градиент\n",
    "        optimizer.zero_grad()\n",
    "\n",
    "        outputs = net(inputs)\n",
    "        loss = criterion(outputs, labels)\n",
    "        loss.backward()\n",
    "        optimizer.step()\n",
    "\n",
    "        # выводим статистику о процессе обучения\n",
    "        running_loss += loss.item()\n",
    "        running_items += len(labels)\n",
    "        \n",
    "        # выводим статистику о процессе обучения\n",
    "        if i % 300 == 0:    # печатаем каждые 300 mini-batches\n",
    "            net.eval()\n",
    "\n",
    "            print(f'Loss: {running_loss / running_items:.3f}. ')\n",
    "            \n",
    "            running_loss, running_items = 0.0, 0.0\n",
    "\n",
    "            net.train()\n",
    "        \n",
    "print('Training is finished!')"
   ]
  },
  {
   "cell_type": "markdown",
   "metadata": {},
   "source": [
    "#### Adam"
   ]
  },
  {
   "cell_type": "code",
   "execution_count": 21,
   "metadata": {},
   "outputs": [
    {
     "name": "stderr",
     "output_type": "stream",
     "text": [
      "\r",
      "  0%|                                                                                           | 0/10 [00:00<?, ?it/s]"
     ]
    },
    {
     "name": "stdout",
     "output_type": "stream",
     "text": [
      "Loss: 0.291. \n",
      "Loss: 0.169. \n",
      "Loss: 0.173. \n",
      "Loss: 0.161. \n",
      "Loss: 0.165. \n",
      "Loss: 0.166. \n"
     ]
    },
    {
     "name": "stderr",
     "output_type": "stream",
     "text": [
      "\r",
      " 10%|████████▎                                                                          | 1/10 [00:01<00:14,  1.63s/it]"
     ]
    },
    {
     "name": "stdout",
     "output_type": "stream",
     "text": [
      "Loss: 0.175. \n",
      "Loss: 0.128. \n",
      "Loss: 0.172. \n",
      "Loss: 0.164. \n",
      "Loss: 0.166. \n",
      "Loss: 0.165. \n",
      "Loss: 0.172. \n"
     ]
    },
    {
     "name": "stderr",
     "output_type": "stream",
     "text": [
      "\r",
      " 20%|████████████████▌                                                                  | 2/10 [00:03<00:13,  1.65s/it]"
     ]
    },
    {
     "name": "stdout",
     "output_type": "stream",
     "text": [
      "Loss: 0.173. \n",
      "Loss: 0.112. \n",
      "Loss: 0.168. \n",
      "Loss: 0.172. \n",
      "Loss: 0.173. \n",
      "Loss: 0.160. \n",
      "Loss: 0.161. \n"
     ]
    },
    {
     "name": "stderr",
     "output_type": "stream",
     "text": [
      "\r",
      " 30%|████████████████████████▉                                                          | 3/10 [00:04<00:11,  1.65s/it]"
     ]
    },
    {
     "name": "stdout",
     "output_type": "stream",
     "text": [
      "Loss: 0.166. \n",
      "Loss: 0.223. \n",
      "Loss: 0.174. \n",
      "Loss: 0.159. \n",
      "Loss: 0.178. \n",
      "Loss: 0.169. \n",
      "Loss: 0.164. \n"
     ]
    },
    {
     "name": "stderr",
     "output_type": "stream",
     "text": [
      "\r",
      " 40%|█████████████████████████████████▏                                                 | 4/10 [00:06<00:10,  1.67s/it]"
     ]
    },
    {
     "name": "stdout",
     "output_type": "stream",
     "text": [
      "Loss: 0.170. \n",
      "Loss: 0.197. \n",
      "Loss: 0.163. \n",
      "Loss: 0.180. \n",
      "Loss: 0.173. \n",
      "Loss: 0.164. \n",
      "Loss: 0.170. \n"
     ]
    },
    {
     "name": "stderr",
     "output_type": "stream",
     "text": [
      "\r",
      " 50%|█████████████████████████████████████████▌                                         | 5/10 [00:08<00:08,  1.69s/it]"
     ]
    },
    {
     "name": "stdout",
     "output_type": "stream",
     "text": [
      "Loss: 0.165. \n",
      "Loss: 0.115. \n",
      "Loss: 0.173. \n",
      "Loss: 0.172. \n",
      "Loss: 0.164. \n",
      "Loss: 0.217. \n",
      "Loss: 0.175. \n"
     ]
    },
    {
     "name": "stderr",
     "output_type": "stream",
     "text": [
      "\r",
      " 60%|█████████████████████████████████████████████████▊                                 | 6/10 [00:09<00:06,  1.67s/it]"
     ]
    },
    {
     "name": "stdout",
     "output_type": "stream",
     "text": [
      "Loss: 0.161. \n",
      "Loss: 0.280. \n",
      "Loss: 0.175. \n",
      "Loss: 0.173. \n",
      "Loss: 0.167. \n",
      "Loss: 0.164. \n",
      "Loss: 0.170. \n"
     ]
    },
    {
     "name": "stderr",
     "output_type": "stream",
     "text": [
      "\r",
      " 70%|██████████████████████████████████████████████████████████                         | 7/10 [00:11<00:04,  1.65s/it]"
     ]
    },
    {
     "name": "stdout",
     "output_type": "stream",
     "text": [
      "Loss: 0.160. \n",
      "Loss: 0.250. \n",
      "Loss: 0.166. \n",
      "Loss: 0.163. \n",
      "Loss: 0.172. \n",
      "Loss: 0.170. \n",
      "Loss: 0.166. \n"
     ]
    },
    {
     "name": "stderr",
     "output_type": "stream",
     "text": [
      "\r",
      " 80%|██████████████████████████████████████████████████████████████████▍                | 8/10 [00:13<00:03,  1.64s/it]"
     ]
    },
    {
     "name": "stdout",
     "output_type": "stream",
     "text": [
      "Loss: 0.174. \n",
      "Loss: 0.078. \n",
      "Loss: 0.162. \n",
      "Loss: 0.170. \n",
      "Loss: 0.158. \n",
      "Loss: 0.169. \n",
      "Loss: 0.173. \n"
     ]
    },
    {
     "name": "stderr",
     "output_type": "stream",
     "text": [
      "\r",
      " 90%|██████████████████████████████████████████████████████████████████████████▋        | 9/10 [00:14<00:01,  1.65s/it]"
     ]
    },
    {
     "name": "stdout",
     "output_type": "stream",
     "text": [
      "Loss: 0.170. \n",
      "Loss: 0.061. \n",
      "Loss: 0.167. \n",
      "Loss: 0.167. \n",
      "Loss: 0.164. \n",
      "Loss: 0.166. \n",
      "Loss: 0.173. \n"
     ]
    },
    {
     "name": "stderr",
     "output_type": "stream",
     "text": [
      "100%|██████████████████████████████████████████████████████████████████████████████████| 10/10 [00:16<00:00,  1.66s/it]"
     ]
    },
    {
     "name": "stdout",
     "output_type": "stream",
     "text": [
      "Loss: 0.177. \n",
      "Training is finished!\n",
      "CPU times: total: 2min 12s\n",
      "Wall time: 16.6 s\n"
     ]
    },
    {
     "name": "stderr",
     "output_type": "stream",
     "text": [
      "\n"
     ]
    }
   ],
   "source": [
    "%%time\n",
    "\n",
    "optimizer = torch.optim.Adam(net.parameters(), lr=0.1)\n",
    "\n",
    "for epoch in tqdm(range(10)):  \n",
    "    running_loss, running_items = 0.0, 0.0\n",
    "    \n",
    "    for i, data in enumerate(train_loader):\n",
    "        inputs, labels = data[0].to(torch.float), data[1].to(torch.float)\n",
    "        labels = labels.reshape(8, 1)\n",
    "\n",
    "        # обнуляем градиент\n",
    "        optimizer.zero_grad()\n",
    "\n",
    "        outputs = net(inputs)\n",
    "        loss = criterion(outputs, labels)\n",
    "        loss.backward()\n",
    "        optimizer.step()\n",
    "\n",
    "        # выводим статистику о процессе обучения\n",
    "        running_loss += loss.item()\n",
    "        running_items += len(labels)\n",
    "        \n",
    "        # выводим статистику о процессе обучения\n",
    "        if i % 300 == 0:    # печатаем каждые 300 mini-batches\n",
    "            net.eval()\n",
    "\n",
    "            print(f'Loss: {running_loss / running_items:.3f}. ')\n",
    "            \n",
    "            running_loss, running_items = 0.0, 0.0\n",
    "\n",
    "            net.train()\n",
    "        \n",
    "print('Training is finished!')"
   ]
  },
  {
   "cell_type": "markdown",
   "metadata": {},
   "source": [
    "SGD отработал быстрее всех, Adam медленнее. Показатели Loss у SGD самые плохие, зато у Adam наилучшие. RMSProp по середине. Adam выглядит оптимальнее всех, так как разница во времени незначительная."
   ]
  },
  {
   "cell_type": "code",
   "execution_count": null,
   "metadata": {},
   "outputs": [],
   "source": []
  }
 ],
 "metadata": {
  "kernelspec": {
   "display_name": "Python 3 (ipykernel)",
   "language": "python",
   "name": "python3"
  },
  "language_info": {
   "codemirror_mode": {
    "name": "ipython",
    "version": 3
   },
   "file_extension": ".py",
   "mimetype": "text/x-python",
   "name": "python",
   "nbconvert_exporter": "python",
   "pygments_lexer": "ipython3",
   "version": "3.9.13"
  }
 },
 "nbformat": 4,
 "nbformat_minor": 2
}
